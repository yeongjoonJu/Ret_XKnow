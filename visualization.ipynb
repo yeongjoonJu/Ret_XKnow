{
 "cells": [
  {
   "cell_type": "code",
   "execution_count": 3,
   "metadata": {},
   "outputs": [
    {
     "name": "stderr",
     "output_type": "stream",
     "text": [
      "/opt/conda/envs/llava/lib/python3.10/site-packages/torch/_utils.py:831: UserWarning: TypedStorage is deprecated. It will be removed in the future and UntypedStorage will be the only storage class. This should only matter to you if you are using storages directly.  To access UntypedStorage directly, use tensor.untyped_storage() instead of tensor.storage()\n",
      "  return self.fget.__get__(instance, owner)()\n"
     ]
    },
    {
     "data": {
      "text/plain": [
       "RetXKnow(\n",
       "  (model): HF_ColBERT(\n",
       "    (linear): Linear(in_features=768, out_features=128, bias=False)\n",
       "    (bert): BertModel(\n",
       "      (embeddings): BertEmbeddings(\n",
       "        (word_embeddings): Embedding(30522, 768, padding_idx=0)\n",
       "        (position_embeddings): Embedding(512, 768)\n",
       "        (token_type_embeddings): Embedding(2, 768)\n",
       "        (LayerNorm): LayerNorm((768,), eps=1e-12, elementwise_affine=True)\n",
       "        (dropout): Dropout(p=0.1, inplace=False)\n",
       "      )\n",
       "      (encoder): BertEncoder(\n",
       "        (layer): ModuleList(\n",
       "          (0-11): 12 x BertLayer(\n",
       "            (attention): BertAttention(\n",
       "              (self): BertSdpaSelfAttention(\n",
       "                (query): Linear(in_features=768, out_features=768, bias=True)\n",
       "                (key): Linear(in_features=768, out_features=768, bias=True)\n",
       "                (value): Linear(in_features=768, out_features=768, bias=True)\n",
       "                (dropout): Dropout(p=0.1, inplace=False)\n",
       "              )\n",
       "              (output): BertSelfOutput(\n",
       "                (dense): Linear(in_features=768, out_features=768, bias=True)\n",
       "                (LayerNorm): LayerNorm((768,), eps=1e-12, elementwise_affine=True)\n",
       "                (dropout): Dropout(p=0.1, inplace=False)\n",
       "              )\n",
       "            )\n",
       "            (intermediate): BertIntermediate(\n",
       "              (dense): Linear(in_features=768, out_features=3072, bias=True)\n",
       "              (intermediate_act_fn): GELUActivation()\n",
       "            )\n",
       "            (output): BertOutput(\n",
       "              (dense): Linear(in_features=3072, out_features=768, bias=True)\n",
       "              (LayerNorm): LayerNorm((768,), eps=1e-12, elementwise_affine=True)\n",
       "              (dropout): Dropout(p=0.1, inplace=False)\n",
       "            )\n",
       "          )\n",
       "        )\n",
       "      )\n",
       "      (pooler): BertPooler(\n",
       "        (dense): Linear(in_features=768, out_features=768, bias=True)\n",
       "        (activation): Tanh()\n",
       "      )\n",
       "    )\n",
       "  )\n",
       "  (vision_tower): CLIPVisionTower(\n",
       "    (vision_tower): CLIPVisionModel(\n",
       "      (vision_model): CLIPVisionTransformer(\n",
       "        (embeddings): CLIPVisionEmbeddings(\n",
       "          (patch_embedding): Conv2d(3, 768, kernel_size=(32, 32), stride=(32, 32), bias=False)\n",
       "          (position_embedding): Embedding(50, 768)\n",
       "        )\n",
       "        (pre_layrnorm): LayerNorm((768,), eps=1e-05, elementwise_affine=True)\n",
       "        (encoder): CLIPEncoder(\n",
       "          (layers): ModuleList(\n",
       "            (0-11): 12 x CLIPEncoderLayer(\n",
       "              (self_attn): CLIPAttention(\n",
       "                (k_proj): Linear(in_features=768, out_features=768, bias=True)\n",
       "                (v_proj): Linear(in_features=768, out_features=768, bias=True)\n",
       "                (q_proj): Linear(in_features=768, out_features=768, bias=True)\n",
       "                (out_proj): Linear(in_features=768, out_features=768, bias=True)\n",
       "              )\n",
       "              (layer_norm1): LayerNorm((768,), eps=1e-05, elementwise_affine=True)\n",
       "              (mlp): CLIPMLP(\n",
       "                (activation_fn): QuickGELUActivation()\n",
       "                (fc1): Linear(in_features=768, out_features=3072, bias=True)\n",
       "                (fc2): Linear(in_features=3072, out_features=768, bias=True)\n",
       "              )\n",
       "              (layer_norm2): LayerNorm((768,), eps=1e-05, elementwise_affine=True)\n",
       "            )\n",
       "          )\n",
       "        )\n",
       "        (post_layernorm): LayerNorm((768,), eps=1e-05, elementwise_affine=True)\n",
       "      )\n",
       "    )\n",
       "  )\n",
       "  (query_fusion): QuerySampler(\n",
       "    (proj): Sequential(\n",
       "      (0): LayerNorm((768,), eps=1e-05, elementwise_affine=True)\n",
       "      (1): Linear(in_features=768, out_features=768, bias=True)\n",
       "      (2): GELU(approximate='none')\n",
       "    )\n",
       "    (k_state): Linear(in_features=768, out_features=768, bias=False)\n",
       "    (conv): Sequential(\n",
       "      (0): Conv2d(769, 1536, kernel_size=(5, 5), stride=(2, 2))\n",
       "      (1): Tanh()\n",
       "    )\n",
       "    (linear): Linear(in_features=1536, out_features=512, bias=True)\n",
       "    (split_mlp): Sequential(\n",
       "      (0): Linear(in_features=768, out_features=1024, bias=True)\n",
       "      (1): Tanh()\n",
       "      (2): Linear(in_features=1024, out_features=2048, bias=True)\n",
       "    )\n",
       "  )\n",
       ")"
      ]
     },
     "execution_count": 3,
     "metadata": {},
     "output_type": "execute_result"
    }
   ],
   "source": [
    "import os\n",
    "import torch\n",
    "from retrievers.xknow import RetXKnow\n",
    "from retrievers.colbert import ColBERTConfig\n",
    "from transformers import AutoConfig\n",
    "\n",
    "xknow_ckpt = \"ckpts/xknow/vid2r/base/xknow_pretrained.pth\"\n",
    "\n",
    "dir_name = os.path.dirname(xknow_ckpt)\n",
    "model_cfg = AutoConfig.from_pretrained(dir_name)\n",
    "colbert_cfg = ColBERTConfig.load_from_checkpoint(dir_name)\n",
    "\n",
    "model = RetXKnow(model_cfg, colbert_cfg)\n",
    "model.load_state_dict(torch.load(xknow_ckpt)[\"model\"])\n",
    "model.eval()"
   ]
  },
  {
   "cell_type": "code",
   "execution_count": 4,
   "metadata": {},
   "outputs": [],
   "source": [
    "from retrievers.colbert import QueryTokenizer\n",
    "query_tokenizer = QueryTokenizer(colbert_cfg)"
   ]
  },
  {
   "cell_type": "code",
   "execution_count": 5,
   "metadata": {},
   "outputs": [
    {
     "name": "stdout",
     "output_type": "stream",
     "text": [
      "The number of removed data: 0\n",
      "The number of existing data: 224\n"
     ]
    },
    {
     "data": {
      "text/plain": [
       "224"
      ]
     },
     "execution_count": 5,
     "metadata": {},
     "output_type": "execute_result"
    }
   ],
   "source": [
    "import os\n",
    "os.environ[\"CUDA_VISIBLE_DEVICES\"] = \"0\"\n",
    "\n",
    "from dataset.base import ImageDataset\n",
    "from transformers import CLIPImageProcessor\n",
    "from torch.utils.data import DataLoader\n",
    "\n",
    "data_dir = \"data/cat_dog\"\n",
    "img_list = os.listdir(data_dir)\n",
    "img_processor = CLIPImageProcessor.from_pretrained(model_cfg.vision_model_name)\n",
    "img_dataset = ImageDataset(img_list, data_dir, img_processor=img_processor)\n",
    "img_dataloader = DataLoader(img_dataset, batch_size=4, shuffle=False, num_workers=4, drop_last=False)\n",
    "len(img_dataset)"
   ]
  },
  {
   "cell_type": "code",
   "execution_count": 6,
   "metadata": {},
   "outputs": [],
   "source": [
    "device = torch.device(\"cuda:0\")\n",
    "model = model.to(device)"
   ]
  },
  {
   "cell_type": "code",
   "execution_count": 7,
   "metadata": {},
   "outputs": [
    {
     "name": "stderr",
     "output_type": "stream",
     "text": [
      "100%|██████████| 56/56 [00:10<00:00,  5.27it/s]\n"
     ]
    }
   ],
   "source": [
    "from tqdm import tqdm\n",
    "\n",
    "question = \"What is the dog or puppy's species?\"\n",
    "input_ids = query_tokenizer.tok(['. ' + question], return_tensors=\"pt\").input_ids\n",
    "input_ids[:, 1] = query_tokenizer.Q_marker_token_id\n",
    "input_ids[input_ids == query_tokenizer.pad_token_id] = query_tokenizer.mask_token_id\n",
    "mask = torch.ones((input_ids.size(0), input_ids.size(1)))\n",
    "\n",
    "input_ids = input_ids.expand(4, -1)\n",
    "\n",
    "Qs = []\n",
    "with torch.no_grad():\n",
    "    for batch in tqdm(img_dataloader):\n",
    "        images, paths = batch\n",
    "        input_ids = input_ids.to(device)\n",
    "        mask = mask.to(device)\n",
    "        images = images.to(device)\n",
    "        # query\n",
    "        Q_t, Q_i = model.embed_VL(input_ids, mask, images)\n",
    "        Q = model.query(Q_t, Q_i, mask)\n",
    "        Qs.append(Q.detach().cpu())\n",
    "        \n",
    "dog_feats = []\n",
    "for q in Qs:\n",
    "    dog_feats.append(q[:,16:20,:].mean(dim=1).detach())\n",
    "dog_feats = torch.cat(dog_feats, dim=0)"
   ]
  },
  {
   "cell_type": "code",
   "execution_count": 8,
   "metadata": {},
   "outputs": [
    {
     "name": "stderr",
     "output_type": "stream",
     "text": [
      "100%|██████████| 56/56 [00:09<00:00,  6.04it/s]\n"
     ]
    }
   ],
   "source": [
    "from tqdm import tqdm\n",
    "\n",
    "question = \"Where is the place in the image?\"\n",
    "input_ids = query_tokenizer.tok(['. ' + question], return_tensors=\"pt\").input_ids\n",
    "input_ids[:, 1] = query_tokenizer.Q_marker_token_id\n",
    "input_ids[input_ids == query_tokenizer.pad_token_id] = query_tokenizer.mask_token_id\n",
    "mask = torch.ones((input_ids.size(0), input_ids.size(1)))\n",
    "\n",
    "input_ids = input_ids.expand(4, -1)\n",
    "\n",
    "Qs = []\n",
    "with torch.no_grad():\n",
    "    for batch in tqdm(img_dataloader):\n",
    "        images, paths = batch\n",
    "        input_ids = input_ids.to(device)\n",
    "        mask = mask.to(device)\n",
    "        images = images.to(device)\n",
    "        # query\n",
    "        Q_t, Q_i = model.embed_VL(input_ids, mask, images)\n",
    "        Q = model.query(Q_t, Q_i, mask)\n",
    "        Qs.append(Q.detach().cpu())\n",
    "        \n",
    "place_feats = []\n",
    "for q in Qs:\n",
    "    place_feats.append(q[:,16:20,:].mean(dim=1).detach())\n",
    "place_feats = torch.cat(place_feats, dim=0)"
   ]
  },
  {
   "cell_type": "code",
   "execution_count": 9,
   "metadata": {},
   "outputs": [
    {
     "name": "stderr",
     "output_type": "stream",
     "text": [
      "100%|██████████| 56/56 [00:10<00:00,  5.23it/s]\n"
     ]
    }
   ],
   "source": [
    "from tqdm import tqdm\n",
    "\n",
    "question = \"What is the cat or kitty's species?\"\n",
    "input_ids = query_tokenizer.tok(['. ' + question], return_tensors=\"pt\").input_ids\n",
    "input_ids[:, 1] = query_tokenizer.Q_marker_token_id\n",
    "input_ids[input_ids == query_tokenizer.pad_token_id] = query_tokenizer.mask_token_id\n",
    "mask = torch.ones((input_ids.size(0), input_ids.size(1)))\n",
    "\n",
    "input_ids = input_ids.expand(4, -1)\n",
    "\n",
    "Qs = []\n",
    "with torch.no_grad():\n",
    "    for batch in tqdm(img_dataloader):\n",
    "        images, paths = batch\n",
    "        input_ids = input_ids.to(device)\n",
    "        mask = mask.to(device)\n",
    "        images = images.to(device)\n",
    "        # query\n",
    "        Q_t, Q_i = model.embed_VL(input_ids, mask, images)\n",
    "        Q = model.query(Q_t, Q_i, mask)\n",
    "        Qs.append(Q.detach().cpu())\n",
    "        \n",
    "cat_feats = []\n",
    "global_feats = []\n",
    "for q in Qs:\n",
    "    cat_feats.append(q[:,16:20,:].mean(dim=1).detach())\n",
    "    global_feats.append(q[:,:16].mean(dim=1).detach())\n",
    "cat_feats = torch.cat(cat_feats, dim=0)\n",
    "global_feats = torch.cat(global_feats, dim=0)"
   ]
  },
  {
   "cell_type": "code",
   "execution_count": 10,
   "metadata": {},
   "outputs": [],
   "source": [
    "dog_np = dog_feats.numpy()\n",
    "cat_np = cat_feats.numpy()\n",
    "global_np = global_feats.numpy()\n",
    "place_np = place_feats.numpy()"
   ]
  },
  {
   "cell_type": "code",
   "execution_count": 12,
   "metadata": {},
   "outputs": [
    {
     "name": "stderr",
     "output_type": "stream",
     "text": [
      "/opt/conda/envs/llava/lib/python3.10/site-packages/umap/umap_.py:1945: UserWarning: n_jobs value 1 overridden to 1 by setting random_state. Use no seed for parallelism.\n",
      "  warn(f\"n_jobs value {self.n_jobs} overridden to 1 by setting random_state. Use no seed for parallelism.\")\n"
     ]
    }
   ],
   "source": [
    "import numpy as np\n",
    "import umap\n",
    "# Combine tensors into one dataset\n",
    "data = np.vstack((dog_np, cat_np, place_np, global_np))\n",
    "# Create labels for the classes\n",
    "labels = np.array([0] * 224 + [1] * 224 + [2] * 224 + [3] * 224)\n",
    "umap_model = umap.UMAP(n_neighbors=5, min_dist=0.5, n_components=2, random_state=42)\n",
    "umap_result = umap_model.fit_transform(data)"
   ]
  },
  {
   "cell_type": "code",
   "execution_count": 16,
   "metadata": {},
   "outputs": [
    {
     "data": {
      "text/plain": [
       "<matplotlib.legend.Legend at 0x7f92b08fa170>"
      ]
     },
     "execution_count": 16,
     "metadata": {},
     "output_type": "execute_result"
    },
    {
     "data": {
      "image/png": "[encoded data removed]",
      "text/plain": [
       "<Figure size 600x300 with 1 Axes>"
      ]
     },
     "metadata": {},
     "output_type": "display_data"
    }
   ],
   "source": [
    "import numpy as np\n",
    "import matplotlib.pyplot as plt\n",
    "\n",
    "# Plot the results\n",
    "fig = plt.figure(figsize=(6, 3))\n",
    "ax = fig.add_subplot(111)#, projection=\"3d\")\n",
    "# ax.view_init(elev=40., azim=120)\n",
    "# Scatter plot, umap_result[:, 2]\n",
    "scatter = ax.scatter(umap_result[:, 0], umap_result[:, 1], c=labels, cmap='rainbow', s=2, alpha=0.6)\n",
    "legend_labels = [\"Dog\", \"Cat\", \"Place\", r\"$E_g$\"]\n",
    "handles, _ = scatter.legend_elements()\n",
    "ax.axis(False)\n",
    "# legend1 = ax.legend(*scatter.legend_elements(), title=\"Classes\")\n",
    "ax.legend(handles, legend_labels, title=\"Targets\", fontsize=10, title_fontsize=10, bbox_to_anchor=(0.92, 0.8), loc='best')"
   ]
  }
 ],
 "metadata": {
  "kernelspec": {
   "display_name": "base",
   "language": "python",
   "name": "python3"
  },
  "language_info": {
   "codemirror_mode": {
    "name": "ipython",
    "version": 3
   },
   "file_extension": ".py",
   "mimetype": "text/x-python",
   "name": "python",
   "nbconvert_exporter": "python",
   "pygments_lexer": "ipython3",
   "version": "3.10.14"
  }
 },
 "nbformat": 4,
 "nbformat_minor": 2
}
